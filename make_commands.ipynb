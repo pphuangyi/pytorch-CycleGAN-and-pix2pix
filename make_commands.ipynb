{
 "cells": [
  {
   "cell_type": "code",
   "execution_count": 1,
   "id": "5946fbd4-18bc-41e9-b799-34ad3917f79f",
   "metadata": {},
   "outputs": [],
   "source": [
    "from itertools import product"
   ]
  },
  {
   "cell_type": "code",
   "execution_count": 5,
   "id": "c4f42e33-07c0-4261-980e-844bfd7f5dca",
   "metadata": {},
   "outputs": [],
   "source": [
    "def form_command(command_stem, \n",
    "                 name_stem, \n",
    "                 gpu_ids=0, \n",
    "                 gan_mode='lsgan', \n",
    "                 generator='resnet_9blocks', \n",
    "                 lambda_level=10):\n",
    "    \n",
    "    name = '-'.join([name_stem, generator, gan_mode, str(lambda_level)])\n",
    "    command = [command_stem, \n",
    "               f'--dataroot {dataroot}',\n",
    "               f'--gpu_ids {gpu_ids}',\n",
    "               f'--netG {generator}',\n",
    "               f'--gan_mode {gan_mode}',\n",
    "               f'--name {name}',\n",
    "               f'--lambda_A {lambda_level}',\n",
    "               f'--lambda_B {lambda_level}']\n",
    "    return ' '.join(command)"
   ]
  },
  {
   "cell_type": "markdown",
   "id": "ea1d404e-2093-446e-99e7-2ea4f6b5a322",
   "metadata": {},
   "source": [
    "Anime"
   ]
  },
  {
   "cell_type": "code",
   "execution_count": 6,
   "id": "d828886e-d67d-4ce0-a762-38a3f680a5bd",
   "metadata": {},
   "outputs": [],
   "source": [
    "command_stem = 'python train.py --display_id 0 --save_epoch_freq 20'\n",
    "name_stem = 'selfie2anime'\n",
    "dataroot = '/data/datasets/cyclegan_benchmarking/datasets/selfie2anime/'\n",
    "\n",
    "parameter_space = product(['unet_256', 'resnet_9blocks'], \n",
    "                          ['lsgan', 'wgangp'], \n",
    "                          [5, 10])\n",
    "with open('command_anime.sh', 'w') as fh:\n",
    "    for generator, gan_mode, lambda_level in parameter_space:\n",
    "        command = form_command(command_stem, \n",
    "                               name_stem, \n",
    "                               gpu_ids=gpu_ids, \n",
    "                               gan_mode=gan_mode, \n",
    "                               generator=generator, \n",
    "                               lambda_level=lambda_level)\n",
    "        fh.write(command + '\\n')"
   ]
  },
  {
   "cell_type": "markdown",
   "id": "3bf3bebb-c751-44d3-8d3b-5054d28544f4",
   "metadata": {},
   "source": [
    "gender"
   ]
  },
  {
   "cell_type": "code",
   "execution_count": 8,
   "id": "839ad76c-4549-452e-a8ee-9d081c72188c",
   "metadata": {},
   "outputs": [],
   "source": [
    "command_stem = ('python train.py --display_id 0 --save_epoch_freq 20 '\n",
    "                '--load_size 256 --preprocess scale_width_and_crop '\n",
    "                '--max_dataset_size 5000 --shuffle')\n",
    "name_stem = 'gender'\n",
    "dataroot = '/data/datasets/celeba_male2female/'\n",
    "\n",
    "parameter_space = product(['unet_256', 'resnet_9blocks'], \n",
    "                          ['lsgan', 'wgangp'], \n",
    "                          [5, 10])\n",
    "with open('command_gender.sh', 'w') as fh:\n",
    "    for generator, gan_mode, lambda_level in parameter_space:\n",
    "        command = form_command(command_stem, \n",
    "                               name_stem, \n",
    "                               gpu_ids=gpu_ids, \n",
    "                               gan_mode=gan_mode, \n",
    "                               generator=generator, \n",
    "                               lambda_level=lambda_level)\n",
    "        fh.write(command + '\\n')"
   ]
  },
  {
   "cell_type": "markdown",
   "id": "c088e75a-7339-47de-a253-b9b0c6a38a23",
   "metadata": {},
   "source": [
    "glasses"
   ]
  },
  {
   "cell_type": "code",
   "execution_count": 9,
   "id": "0c159dc2-db3d-4f1b-a154-b712861e4dbb",
   "metadata": {},
   "outputs": [],
   "source": [
    "command_stem = ('python train.py --display_id 0 --save_epoch_freq 20 '\n",
    "                '--load_size 256 --preprocess scale_width_and_crop '\n",
    "                '--max_dataset_size 5000 --shuffle')\n",
    "name_stem = 'glasses'\n",
    "dataroot = '/data/datasets/celeba_glasses/'\n",
    "\n",
    "parameter_space = product(['unet_256', 'resnet_9blocks'], \n",
    "                           ['lsgan', 'wgangp'], \n",
    "                           [5, 10])\n",
    "with open('command_glasses.sh', 'w') as fh:\n",
    "    for generator, gan_mode, lambda_level in parameter_space:\n",
    "        command = form_command(command_stem, \n",
    "                               name_stem, \n",
    "                               gpu_ids=gpu_ids, \n",
    "                               gan_mode=gan_mode, \n",
    "                               generator=generator, \n",
    "                               lambda_level=lambda_level)\n",
    "        fh.write(command + '\\n')"
   ]
  },
  {
   "cell_type": "code",
   "execution_count": null,
   "id": "47b9ffe3-0072-4079-bcc1-dee98a52e5d0",
   "metadata": {},
   "outputs": [],
   "source": []
  }
 ],
 "metadata": {
  "kernelspec": {
   "display_name": "Python 3 (ipykernel)",
   "language": "python",
   "name": "python3"
  },
  "language_info": {
   "codemirror_mode": {
    "name": "ipython",
    "version": 3
   },
   "file_extension": ".py",
   "mimetype": "text/x-python",
   "name": "python",
   "nbconvert_exporter": "python",
   "pygments_lexer": "ipython3",
   "version": "3.9.4"
  }
 },
 "nbformat": 4,
 "nbformat_minor": 5
}
